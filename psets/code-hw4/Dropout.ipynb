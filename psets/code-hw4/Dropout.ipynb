{
 "cells": [
  {
   "cell_type": "markdown",
   "metadata": {
    "deletable": true,
    "editable": true
   },
   "source": [
    "# Dropout\n",
    "\n",
    "In this notebook, you will implement dropout.  Then we will ask you to train a network with batchnorm and dropout, and acheive over 60% accuracy on CIFAR-10.\n",
    "\n",
    "CS231n has built a solid API for building these modular frameworks and training them, and we will use their very well implemented framework as opposed to \"reinventing the wheel.\"  This includes using their Solver, various utility functions, and their layer structure.  This also includes nndl.fc_net, nndl.layers, and nndl.layer_utils.  As in prior assignments, we thank Serena Yeung & Justin Johnson for permission to use code written for the CS 231n class (cs231n.stanford.edu).  "
   ]
  },
  {
   "cell_type": "code",
   "execution_count": 2,
   "metadata": {
    "collapsed": true,
    "deletable": true,
    "editable": true
   },
   "outputs": [],
   "source": [
    "## Import and setups\n",
    "\n",
    "import time\n",
    "import numpy as np\n",
    "import matplotlib.pyplot as plt\n",
    "from nndl.fc_net import *\n",
    "from nndl.layers import *\n",
    "from cs231n.data_utils import get_CIFAR10_data\n",
    "from cs231n.gradient_check import eval_numerical_gradient, eval_numerical_gradient_array\n",
    "from cs231n.solver import Solver\n",
    "\n",
    "%matplotlib inline\n",
    "plt.rcParams['figure.figsize'] = (10.0, 8.0) # set default size of plots\n",
    "plt.rcParams['image.interpolation'] = 'nearest'\n",
    "plt.rcParams['image.cmap'] = 'gray'\n",
    "\n",
    "# for auto-reloading external modules\n",
    "# see http://stackoverflow.com/questions/1907993/autoreload-of-modules-in-ipython\n",
    "%load_ext autoreload\n",
    "%autoreload 2\n",
    "\n",
    "def rel_error(x, y):\n",
    "  \"\"\" returns relative error \"\"\"\n",
    "  return np.max(np.abs(x - y) / (np.maximum(1e-8, np.abs(x) + np.abs(y))))"
   ]
  },
  {
   "cell_type": "code",
   "execution_count": 3,
   "metadata": {
    "collapsed": false,
    "deletable": true,
    "editable": true
   },
   "outputs": [
    {
     "name": "stdout",
     "output_type": "stream",
     "text": [
      "y_train: (49000,) \n",
      "y_val: (1000,) \n",
      "X_train: (49000, 3, 32, 32) \n",
      "X_test: (1000, 3, 32, 32) \n",
      "X_val: (1000, 3, 32, 32) \n",
      "y_test: (1000,) \n"
     ]
    }
   ],
   "source": [
    "# Load the (preprocessed) CIFAR10 data.\n",
    "\n",
    "data = get_CIFAR10_data()\n",
    "for k in data.keys():\n",
    "  print('{}: {} '.format(k, data[k].shape))"
   ]
  },
  {
   "cell_type": "markdown",
   "metadata": {
    "deletable": true,
    "editable": true
   },
   "source": [
    "## Dropout forward pass\n",
    "\n",
    "Implement the training and test time dropout forward pass, `dropout_forward`, in `nndl/layers.py`. After that, test your implementation by running the following cell."
   ]
  },
  {
   "cell_type": "code",
   "execution_count": 4,
   "metadata": {
    "collapsed": false,
    "deletable": true,
    "editable": true
   },
   "outputs": [
    {
     "name": "stdout",
     "output_type": "stream",
     "text": [
      "Running tests with p =  0.3\n",
      "Mean of input:  10.0008759413\n",
      "Mean of train-time output:  10.0030855725\n",
      "Mean of test-time output:  10.0008759413\n",
      "Fraction of train-time output set to zero:  0.699928\n",
      "Fraction of test-time output set to zero:  0.0\n",
      "Running tests with p =  0.6\n",
      "Mean of input:  10.0008759413\n",
      "Mean of train-time output:  10.0037548853\n",
      "Mean of test-time output:  10.0008759413\n",
      "Fraction of train-time output set to zero:  0.399816\n",
      "Fraction of test-time output set to zero:  0.0\n",
      "Running tests with p =  0.75\n",
      "Mean of input:  10.0008759413\n",
      "Mean of train-time output:  10.0124150442\n",
      "Mean of test-time output:  10.0008759413\n",
      "Fraction of train-time output set to zero:  0.24922\n",
      "Fraction of test-time output set to zero:  0.0\n"
     ]
    }
   ],
   "source": [
    "x = np.random.randn(500, 500) + 10\n",
    "\n",
    "for p in [0.3, 0.6, 0.75]:\n",
    "  out, _ = dropout_forward(x, {'mode': 'train', 'p': p})\n",
    "  out_test, _ = dropout_forward(x, {'mode': 'test', 'p': p})\n",
    "\n",
    "  print('Running tests with p = ', p)\n",
    "  print('Mean of input: ', x.mean())\n",
    "  print('Mean of train-time output: ', out.mean())\n",
    "  print('Mean of test-time output: ', out_test.mean())\n",
    "  print('Fraction of train-time output set to zero: ', (out == 0).mean())\n",
    "  print('Fraction of test-time output set to zero: ', (out_test == 0).mean())"
   ]
  },
  {
   "cell_type": "markdown",
   "metadata": {
    "deletable": true,
    "editable": true
   },
   "source": [
    "## Dropout backward pass\n",
    "\n",
    "Implement the backward pass, `dropout_backward`, in `nndl/layers.py`.  After that, test your gradients by running the following cell:"
   ]
  },
  {
   "cell_type": "code",
   "execution_count": 5,
   "metadata": {
    "collapsed": false,
    "deletable": true,
    "editable": true
   },
   "outputs": [
    {
     "name": "stdout",
     "output_type": "stream",
     "text": [
      "dx relative error:  5.44560904071e-11\n"
     ]
    }
   ],
   "source": [
    "x = np.random.randn(10, 10) + 10\n",
    "dout = np.random.randn(*x.shape)\n",
    "\n",
    "dropout_param = {'mode': 'train', 'p': 0.8, 'seed': 123}\n",
    "out, cache = dropout_forward(x, dropout_param)\n",
    "dx = dropout_backward(dout, cache)\n",
    "dx_num = eval_numerical_gradient_array(lambda xx: dropout_forward(xx, dropout_param)[0], x, dout)\n",
    "\n",
    "print('dx relative error: ', rel_error(dx, dx_num))"
   ]
  },
  {
   "cell_type": "markdown",
   "metadata": {
    "deletable": true,
    "editable": true
   },
   "source": [
    "## Implement a fully connected neural network with dropout layers\n",
    "\n",
    "Modify the `FullyConnectedNet()` class in `nndl/fc_net.py` to incorporate dropout.  A dropout layer should be incorporated after every ReLU layer.  Concretely, there shouldn't be a dropout at the output layer since there is no ReLU at the output layer. You will need to modify the class in the following areas:\n",
    "\n",
    "(1) In the forward pass, you will need to incorporate a dropout layer after every relu layer.\n",
    "\n",
    "(2) In the backward pass, you will need to incorporate a dropout backward pass layer.\n",
    "\n",
    "Check your implementation by running the following code.  Our W1 gradient relative error is on the order of 1e-6 (the largest of all the relative errors)."
   ]
  },
  {
   "cell_type": "code",
   "execution_count": 6,
   "metadata": {
    "collapsed": false,
    "deletable": true,
    "editable": true,
    "scrolled": false
   },
   "outputs": [
    {
     "name": "stdout",
     "output_type": "stream",
     "text": [
      "Running check with dropout =  0\n",
      "Initial loss:  2.31418234444\n",
      "W1 relative error: 3.152163618051263e-08\n",
      "W2 relative error: 1.696950190217807e-08\n",
      "b1 relative error: 1.9872671943271133e-09\n",
      "b2 relative error: 1.5649442082126447e-10\n",
      "\n",
      "\n",
      "Running check with dropout =  0.25\n",
      "Initial loss:  2.31535237536\n",
      "W1 relative error: 6.9892606168965885e-09\n",
      "W2 relative error: 3.102857679581115e-10\n",
      "b1 relative error: 3.8162549597911735e-10\n",
      "b2 relative error: 1.0709568129602027e-10\n",
      "\n",
      "\n",
      "Running check with dropout =  0.5\n",
      "Initial loss:  2.3055719127\n",
      "W1 relative error: 1.2303069007747731e-08\n",
      "W2 relative error: 2.2394060721635313e-09\n",
      "b1 relative error: 1.1833771783525315e-08\n",
      "b2 relative error: 1.710237953855547e-10\n",
      "\n",
      "\n"
     ]
    }
   ],
   "source": [
    "N, D, H1, H2, C = 2, 15, 20, 30, 10\n",
    "X = np.random.randn(N, D)\n",
    "y = np.random.randint(C, size=(N,))\n",
    "\n",
    "for dropout in [0, 0.25, 0.5]:\n",
    "  print('Running check with dropout = ', dropout)\n",
    "  model = FullyConnectedNet([H1, H2], input_dim=D, num_classes=C,\n",
    "                            weight_scale=5e-2, dtype=np.float64,\n",
    "                            dropout=dropout, seed=123)\n",
    "\n",
    "  loss, grads = model.loss(X, y)\n",
    "  print('Initial loss: ', loss)\n",
    "\n",
    "  for name in sorted(grads):\n",
    "    f = lambda _: model.loss(X, y)[0]\n",
    "    grad_num = eval_numerical_gradient(f, model.params[name], verbose=False, h=1e-5)\n",
    "    print('{} relative error: {}'.format(name, rel_error(grad_num, grads[name])))\n",
    "  print('\\n')"
   ]
  },
  {
   "cell_type": "markdown",
   "metadata": {
    "deletable": true,
    "editable": true
   },
   "source": [
    "## Dropout as a regularizer\n",
    "\n",
    "In class, we claimed that dropout acts as a regularizer by effectively bagging.  To check this, we will train two small networks, one with dropout and one without dropout.  "
   ]
  },
  {
   "cell_type": "code",
   "execution_count": 7,
   "metadata": {
    "collapsed": false,
    "deletable": true,
    "editable": true
   },
   "outputs": [
    {
     "name": "stdout",
     "output_type": "stream",
     "text": [
      "(Iteration 1 / 125) loss: 2.332522\n",
      "(Epoch 0 / 25) train acc: 0.224000; val_acc: 0.162000\n",
      "(Epoch 1 / 25) train acc: 0.322000; val_acc: 0.246000\n",
      "(Epoch 2 / 25) train acc: 0.414000; val_acc: 0.288000\n",
      "(Epoch 3 / 25) train acc: 0.494000; val_acc: 0.299000\n",
      "(Epoch 4 / 25) train acc: 0.566000; val_acc: 0.323000\n",
      "(Epoch 5 / 25) train acc: 0.626000; val_acc: 0.288000\n",
      "(Epoch 6 / 25) train acc: 0.704000; val_acc: 0.317000\n",
      "(Epoch 7 / 25) train acc: 0.734000; val_acc: 0.323000\n",
      "(Epoch 8 / 25) train acc: 0.776000; val_acc: 0.313000\n",
      "(Epoch 9 / 25) train acc: 0.844000; val_acc: 0.344000\n",
      "(Epoch 10 / 25) train acc: 0.890000; val_acc: 0.327000\n",
      "(Epoch 11 / 25) train acc: 0.920000; val_acc: 0.335000\n",
      "(Epoch 12 / 25) train acc: 0.938000; val_acc: 0.338000\n",
      "(Epoch 13 / 25) train acc: 0.960000; val_acc: 0.310000\n",
      "(Epoch 14 / 25) train acc: 0.974000; val_acc: 0.320000\n",
      "(Epoch 15 / 25) train acc: 0.978000; val_acc: 0.323000\n",
      "(Epoch 16 / 25) train acc: 0.980000; val_acc: 0.310000\n",
      "(Epoch 17 / 25) train acc: 0.990000; val_acc: 0.307000\n",
      "(Epoch 18 / 25) train acc: 0.994000; val_acc: 0.325000\n",
      "(Epoch 19 / 25) train acc: 1.000000; val_acc: 0.320000\n",
      "(Epoch 20 / 25) train acc: 0.996000; val_acc: 0.319000\n",
      "(Iteration 101 / 125) loss: 0.029197\n",
      "(Epoch 21 / 25) train acc: 1.000000; val_acc: 0.315000\n",
      "(Epoch 22 / 25) train acc: 1.000000; val_acc: 0.324000\n",
      "(Epoch 23 / 25) train acc: 1.000000; val_acc: 0.306000\n",
      "(Epoch 24 / 25) train acc: 1.000000; val_acc: 0.313000\n",
      "(Epoch 25 / 25) train acc: 0.990000; val_acc: 0.308000\n",
      "(Iteration 1 / 125) loss: 2.335937\n",
      "(Epoch 0 / 25) train acc: 0.184000; val_acc: 0.138000\n",
      "(Epoch 1 / 25) train acc: 0.312000; val_acc: 0.235000\n",
      "(Epoch 2 / 25) train acc: 0.378000; val_acc: 0.289000\n",
      "(Epoch 3 / 25) train acc: 0.422000; val_acc: 0.295000\n",
      "(Epoch 4 / 25) train acc: 0.442000; val_acc: 0.278000\n",
      "(Epoch 5 / 25) train acc: 0.474000; val_acc: 0.304000\n",
      "(Epoch 6 / 25) train acc: 0.522000; val_acc: 0.322000\n",
      "(Epoch 7 / 25) train acc: 0.572000; val_acc: 0.340000\n",
      "(Epoch 8 / 25) train acc: 0.568000; val_acc: 0.335000\n",
      "(Epoch 9 / 25) train acc: 0.590000; val_acc: 0.326000\n",
      "(Epoch 10 / 25) train acc: 0.652000; val_acc: 0.319000\n",
      "(Epoch 11 / 25) train acc: 0.694000; val_acc: 0.337000\n",
      "(Epoch 12 / 25) train acc: 0.726000; val_acc: 0.338000\n",
      "(Epoch 13 / 25) train acc: 0.766000; val_acc: 0.331000\n",
      "(Epoch 14 / 25) train acc: 0.780000; val_acc: 0.326000\n",
      "(Epoch 15 / 25) train acc: 0.798000; val_acc: 0.314000\n",
      "(Epoch 16 / 25) train acc: 0.810000; val_acc: 0.291000\n",
      "(Epoch 17 / 25) train acc: 0.846000; val_acc: 0.300000\n",
      "(Epoch 18 / 25) train acc: 0.856000; val_acc: 0.316000\n",
      "(Epoch 19 / 25) train acc: 0.870000; val_acc: 0.326000\n",
      "(Epoch 20 / 25) train acc: 0.896000; val_acc: 0.307000\n",
      "(Iteration 101 / 125) loss: 0.839085\n",
      "(Epoch 21 / 25) train acc: 0.888000; val_acc: 0.305000\n",
      "(Epoch 22 / 25) train acc: 0.904000; val_acc: 0.312000\n",
      "(Epoch 23 / 25) train acc: 0.900000; val_acc: 0.321000\n",
      "(Epoch 24 / 25) train acc: 0.910000; val_acc: 0.312000\n",
      "(Epoch 25 / 25) train acc: 0.882000; val_acc: 0.291000\n"
     ]
    }
   ],
   "source": [
    "# Train two identical nets, one with dropout and one without\n",
    "\n",
    "num_train = 500\n",
    "small_data = {\n",
    "  'X_train': data['X_train'][:num_train],\n",
    "  'y_train': data['y_train'][:num_train],\n",
    "  'X_val': data['X_val'],\n",
    "  'y_val': data['y_val'],\n",
    "}\n",
    "\n",
    "solvers = {}\n",
    "dropout_choices = [0, 0.6]\n",
    "for dropout in dropout_choices:\n",
    "  model = FullyConnectedNet([100, 100, 100], dropout=dropout)\n",
    "\n",
    "  solver = Solver(model, small_data,\n",
    "                  num_epochs=25, batch_size=100,\n",
    "                  update_rule='adam',\n",
    "                  optim_config={\n",
    "                    'learning_rate': 5e-4,\n",
    "                  },\n",
    "                  verbose=True, print_every=100)\n",
    "  solver.train()\n",
    "  solvers[dropout] = solver"
   ]
  },
  {
   "cell_type": "code",
   "execution_count": 8,
   "metadata": {
    "collapsed": false,
    "deletable": true,
    "editable": true
   },
   "outputs": [
    {
     "data": {
      "image/png": "[encoded data removed]",
      "text/plain": [
       "<matplotlib.figure.Figure at 0x107e7f630>"
      ]
     },
     "metadata": {},
     "output_type": "display_data"
    }
   ],
   "source": [
    "# Plot train and validation accuracies of the two models\n",
    "\n",
    "train_accs = []\n",
    "val_accs = []\n",
    "for dropout in dropout_choices:\n",
    "  solver = solvers[dropout]\n",
    "  train_accs.append(solver.train_acc_history[-1])\n",
    "  val_accs.append(solver.val_acc_history[-1])\n",
    "\n",
    "plt.subplot(3, 1, 1)\n",
    "for dropout in dropout_choices:\n",
    "  plt.plot(solvers[dropout].train_acc_history, 'o', label='%.2f dropout' % dropout)\n",
    "plt.title('Train accuracy')\n",
    "plt.xlabel('Epoch')\n",
    "plt.ylabel('Accuracy')\n",
    "plt.legend(ncol=2, loc='lower right')\n",
    "  \n",
    "plt.subplot(3, 1, 2)\n",
    "for dropout in dropout_choices:\n",
    "  plt.plot(solvers[dropout].val_acc_history, 'o', label='%.2f dropout' % dropout)\n",
    "plt.title('Val accuracy')\n",
    "plt.xlabel('Epoch')\n",
    "plt.ylabel('Accuracy')\n",
    "plt.legend(ncol=2, loc='lower right')\n",
    "\n",
    "plt.gcf().set_size_inches(15, 15)\n",
    "plt.show()"
   ]
  },
  {
   "cell_type": "markdown",
   "metadata": {
    "deletable": true,
    "editable": true
   },
   "source": [
    "## Question\n",
    "\n",
    "Based off the results of this experiment, is dropout performing regularization?  Explain your answer."
   ]
  },
  {
   "cell_type": "markdown",
   "metadata": {
    "deletable": true,
    "editable": true
   },
   "source": [
    "## Answer:\n",
    "\n",
    "Yes, dropout is performing regularizaiton based on the experiment. In class and in the book, we gave a broad definition of regularization as anything that is done to improve the generalization accuracy (in this case estiamted by the validation accuracy), at a possible cost to the training accuracy. Here, we can see that we had slightly reduced training accuracy but did better on the validation dataset using dropout. "
   ]
  },
  {
   "cell_type": "markdown",
   "metadata": {
    "deletable": true,
    "editable": true
   },
   "source": [
    "## Final part of the assignment\n",
    "\n",
    "Get over 60% validation accuracy on CIFAR-10 by using the layers you have implemented.  You will be graded according to the following equation:\n",
    "\n",
    "min(floor((X - 32%)) / 28%, 1) \n",
    "where if you get 60% or higher validation accuracy, you get full points."
   ]
  },
  {
   "cell_type": "code",
   "execution_count": 9,
   "metadata": {
    "collapsed": false,
    "deletable": true,
    "editable": true,
    "scrolled": false
   },
   "outputs": [
    {
     "name": "stdout",
     "output_type": "stream",
     "text": [
      "(Iteration 1 / 12250) loss: 2.280825\n",
      "(Epoch 0 / 25) train acc: 0.195000; val_acc: 0.203000\n",
      "(Iteration 101 / 12250) loss: 1.712041\n",
      "(Iteration 201 / 12250) loss: 1.624767\n",
      "(Iteration 301 / 12250) loss: 1.516743\n",
      "(Iteration 401 / 12250) loss: 1.545157\n",
      "(Epoch 1 / 25) train acc: 0.494000; val_acc: 0.467000\n",
      "(Iteration 501 / 12250) loss: 1.550509\n",
      "(Iteration 601 / 12250) loss: 1.507818\n",
      "(Iteration 701 / 12250) loss: 1.295949\n",
      "(Iteration 801 / 12250) loss: 1.455602\n",
      "(Iteration 901 / 12250) loss: 1.297721\n",
      "(Epoch 2 / 25) train acc: 0.532000; val_acc: 0.515000\n",
      "(Iteration 1001 / 12250) loss: 1.332914\n",
      "(Iteration 1101 / 12250) loss: 1.386130\n",
      "(Iteration 1201 / 12250) loss: 1.517584\n",
      "(Iteration 1301 / 12250) loss: 1.081766\n",
      "(Iteration 1401 / 12250) loss: 1.173483\n",
      "(Epoch 3 / 25) train acc: 0.585000; val_acc: 0.543000\n",
      "(Iteration 1501 / 12250) loss: 1.110842\n",
      "(Iteration 1601 / 12250) loss: 1.409498\n",
      "(Iteration 1701 / 12250) loss: 1.234978\n",
      "(Iteration 1801 / 12250) loss: 1.232522\n",
      "(Iteration 1901 / 12250) loss: 1.189248\n",
      "(Epoch 4 / 25) train acc: 0.592000; val_acc: 0.542000\n",
      "(Iteration 2001 / 12250) loss: 1.153092\n",
      "(Iteration 2101 / 12250) loss: 1.171023\n",
      "(Iteration 2201 / 12250) loss: 1.049760\n",
      "(Iteration 2301 / 12250) loss: 1.067445\n",
      "(Iteration 2401 / 12250) loss: 1.341731\n",
      "(Epoch 5 / 25) train acc: 0.631000; val_acc: 0.550000\n",
      "(Iteration 2501 / 12250) loss: 1.234808\n",
      "(Iteration 2601 / 12250) loss: 1.106125\n",
      "(Iteration 2701 / 12250) loss: 1.106153\n",
      "(Iteration 2801 / 12250) loss: 1.124826\n",
      "(Iteration 2901 / 12250) loss: 1.311329\n",
      "(Epoch 6 / 25) train acc: 0.612000; val_acc: 0.562000\n",
      "(Iteration 3001 / 12250) loss: 1.344609\n",
      "(Iteration 3101 / 12250) loss: 1.090185\n",
      "(Iteration 3201 / 12250) loss: 1.056797\n",
      "(Iteration 3301 / 12250) loss: 1.040333\n",
      "(Iteration 3401 / 12250) loss: 1.009323\n",
      "(Epoch 7 / 25) train acc: 0.640000; val_acc: 0.560000\n",
      "(Iteration 3501 / 12250) loss: 1.076566\n",
      "(Iteration 3601 / 12250) loss: 1.077023\n",
      "(Iteration 3701 / 12250) loss: 0.870094\n",
      "(Iteration 3801 / 12250) loss: 1.024979\n",
      "(Iteration 3901 / 12250) loss: 1.107719\n",
      "(Epoch 8 / 25) train acc: 0.669000; val_acc: 0.576000\n",
      "(Iteration 4001 / 12250) loss: 1.150855\n",
      "(Iteration 4101 / 12250) loss: 0.950336\n",
      "(Iteration 4201 / 12250) loss: 0.755787\n",
      "(Iteration 4301 / 12250) loss: 1.062732\n",
      "(Iteration 4401 / 12250) loss: 0.720832\n",
      "(Epoch 9 / 25) train acc: 0.707000; val_acc: 0.583000\n",
      "(Iteration 4501 / 12250) loss: 0.960566\n",
      "(Iteration 4601 / 12250) loss: 0.969052\n",
      "(Iteration 4701 / 12250) loss: 0.987831\n",
      "(Iteration 4801 / 12250) loss: 1.122046\n",
      "(Epoch 10 / 25) train acc: 0.706000; val_acc: 0.577000\n",
      "(Iteration 4901 / 12250) loss: 1.081653\n",
      "(Iteration 5001 / 12250) loss: 1.221751\n",
      "(Iteration 5101 / 12250) loss: 0.999472\n",
      "(Iteration 5201 / 12250) loss: 0.983912\n",
      "(Iteration 5301 / 12250) loss: 0.976316\n",
      "(Epoch 11 / 25) train acc: 0.732000; val_acc: 0.585000\n",
      "(Iteration 5401 / 12250) loss: 0.891815\n",
      "(Iteration 5501 / 12250) loss: 1.124777\n",
      "(Iteration 5601 / 12250) loss: 0.900645\n",
      "(Iteration 5701 / 12250) loss: 0.787867\n",
      "(Iteration 5801 / 12250) loss: 0.861920\n",
      "(Epoch 12 / 25) train acc: 0.761000; val_acc: 0.581000\n",
      "(Iteration 5901 / 12250) loss: 1.034995\n",
      "(Iteration 6001 / 12250) loss: 0.874077\n",
      "(Iteration 6101 / 12250) loss: 1.067351\n",
      "(Iteration 6201 / 12250) loss: 0.767496\n",
      "(Iteration 6301 / 12250) loss: 1.023306\n",
      "(Epoch 13 / 25) train acc: 0.743000; val_acc: 0.579000\n",
      "(Iteration 6401 / 12250) loss: 1.023623\n",
      "(Iteration 6501 / 12250) loss: 0.985254\n",
      "(Iteration 6601 / 12250) loss: 0.976035\n",
      "(Iteration 6701 / 12250) loss: 0.959728\n",
      "(Iteration 6801 / 12250) loss: 0.886309\n",
      "(Epoch 14 / 25) train acc: 0.759000; val_acc: 0.579000\n",
      "(Iteration 6901 / 12250) loss: 0.735149\n",
      "(Iteration 7001 / 12250) loss: 0.763289\n",
      "(Iteration 7101 / 12250) loss: 0.855879\n",
      "(Iteration 7201 / 12250) loss: 0.786694\n",
      "(Iteration 7301 / 12250) loss: 0.947139\n",
      "(Epoch 15 / 25) train acc: 0.784000; val_acc: 0.575000\n",
      "(Iteration 7401 / 12250) loss: 0.649316\n",
      "(Iteration 7501 / 12250) loss: 0.659297\n",
      "(Iteration 7601 / 12250) loss: 0.687769\n",
      "(Iteration 7701 / 12250) loss: 0.880348\n",
      "(Iteration 7801 / 12250) loss: 0.792361\n",
      "(Epoch 16 / 25) train acc: 0.784000; val_acc: 0.580000\n",
      "(Iteration 7901 / 12250) loss: 0.771384\n",
      "(Iteration 8001 / 12250) loss: 0.765989\n",
      "(Iteration 8101 / 12250) loss: 1.109019\n",
      "(Iteration 8201 / 12250) loss: 0.757826\n",
      "(Iteration 8301 / 12250) loss: 0.851621\n",
      "(Epoch 17 / 25) train acc: 0.774000; val_acc: 0.590000\n",
      "(Iteration 8401 / 12250) loss: 0.922324\n",
      "(Iteration 8501 / 12250) loss: 0.770878\n",
      "(Iteration 8601 / 12250) loss: 0.735701\n",
      "(Iteration 8701 / 12250) loss: 0.908540\n",
      "(Iteration 8801 / 12250) loss: 0.712543\n",
      "(Epoch 18 / 25) train acc: 0.797000; val_acc: 0.570000\n",
      "(Iteration 8901 / 12250) loss: 0.759616\n",
      "(Iteration 9001 / 12250) loss: 0.673351\n",
      "(Iteration 9101 / 12250) loss: 0.827055\n",
      "(Iteration 9201 / 12250) loss: 0.679886\n",
      "(Iteration 9301 / 12250) loss: 0.820736\n",
      "(Epoch 19 / 25) train acc: 0.821000; val_acc: 0.579000\n",
      "(Iteration 9401 / 12250) loss: 0.789260\n",
      "(Iteration 9501 / 12250) loss: 0.811642\n",
      "(Iteration 9601 / 12250) loss: 0.631809\n",
      "(Iteration 9701 / 12250) loss: 0.784253\n",
      "(Epoch 20 / 25) train acc: 0.810000; val_acc: 0.579000\n",
      "(Iteration 9801 / 12250) loss: 0.851510\n",
      "(Iteration 9901 / 12250) loss: 1.019607\n",
      "(Iteration 10001 / 12250) loss: 0.646361\n",
      "(Iteration 10101 / 12250) loss: 0.711297\n",
      "(Iteration 10201 / 12250) loss: 0.852993\n",
      "(Epoch 21 / 25) train acc: 0.827000; val_acc: 0.573000\n",
      "(Iteration 10301 / 12250) loss: 0.664814\n",
      "(Iteration 10401 / 12250) loss: 0.782403\n",
      "(Iteration 10501 / 12250) loss: 0.952000\n",
      "(Iteration 10601 / 12250) loss: 0.760245\n",
      "(Iteration 10701 / 12250) loss: 0.626124\n",
      "(Epoch 22 / 25) train acc: 0.836000; val_acc: 0.568000\n",
      "(Iteration 10801 / 12250) loss: 0.777344\n",
      "(Iteration 10901 / 12250) loss: 0.734849\n",
      "(Iteration 11001 / 12250) loss: 0.786324\n",
      "(Iteration 11101 / 12250) loss: 0.772074\n",
      "(Iteration 11201 / 12250) loss: 0.591579\n",
      "(Epoch 23 / 25) train acc: 0.849000; val_acc: 0.586000\n",
      "(Iteration 11301 / 12250) loss: 0.792573\n",
      "(Iteration 11401 / 12250) loss: 0.783674\n",
      "(Iteration 11501 / 12250) loss: 0.658321\n",
      "(Iteration 11601 / 12250) loss: 0.727379\n",
      "(Iteration 11701 / 12250) loss: 0.627095\n",
      "(Epoch 24 / 25) train acc: 0.813000; val_acc: 0.577000\n",
      "(Iteration 11801 / 12250) loss: 0.715772\n",
      "(Iteration 11901 / 12250) loss: 0.572048\n",
      "(Iteration 12001 / 12250) loss: 0.738237\n",
      "(Iteration 12101 / 12250) loss: 0.971061\n",
      "(Iteration 12201 / 12250) loss: 0.953868\n",
      "(Epoch 25 / 25) train acc: 0.845000; val_acc: 0.576000\n",
      "done training. Got a test accuracy of 0.845 and a validation accuracy of 0.576\n"
     ]
    }
   ],
   "source": [
    "#================================================================ #\n",
    "# YOUR CODE HERE:\n",
    "#   Implement a FC-net that achieves at least 60% validation accuracy\n",
    "#   on CIFAR-10.\n",
    "# ================================================================ #\n",
    "\n",
    "# so in order to do this, I started off with a broad hyperparameter search and figured out where I got close to 60.\n",
    "# then I fine tuned the hyperparams in that area\n",
    "\n",
    "# my main idea was to have a deep, large network so it has high expressivity\n",
    "# but control overfitting with a large dropout.\n",
    "# batchnorm, learning rate decay, and the adam optimizer also helped.\n",
    "\n",
    "# the below were the hyperparams I ended up with.\n",
    "#HYPERPARAMETERS USED\n",
    "# 4 hidden layers of 500 units each, 0.75 dropout, batch size of 100, lr = 1e-3, decay = 0.9, weight_scale = 0.01\n",
    "# note: i stopped the network earlybecause it didn't seem to be getting any better, got a val acc of 0.586\n",
    "np.random.seed(1234)\n",
    "solvers = {}\n",
    "dropout = 0.75\n",
    "batch_size = 100\n",
    "learning_rate = 1e-3 #1e-3\n",
    "hidden_layer_size = 500\n",
    "lr_decay = 0.9\n",
    "best_val_acc, best_solver = 0.0, None\n",
    "model = FullyConnectedNet([hidden_layer_size, hidden_layer_size, hidden_layer_size], dropout = dropout, weight_scale = 0.01, use_batchnorm=True)\n",
    "solver = Solver(model, data, num_epochs = 25, batch_size = batch_size, update_rule = 'adam', optim_config = { 'learning_rate': learning_rate,}, lr_decay = lr_decay, verbose = True, print_every = 100)\n",
    "solver.train()\n",
    "print('done training. Got a test accuracy of {} and a validation accuracy of {}'.format(solver.train_acc_history[-1], solver.val_acc_history[-1]))\n",
    "if solver.val_acc_history[-1] > best_val_acc:\n",
    "    best_val_acc = solver.val_acc_history[-1]\n",
    "    best_solver = solver\n",
    "    \n",
    "# ================== #\n",
    "# END YOUR CODE HERE\n",
    "# ================================================================ #\n"
   ]
  },
  {
   "cell_type": "code",
   "execution_count": null,
   "metadata": {
    "collapsed": true,
    "deletable": true,
    "editable": true
   },
   "outputs": [],
   "source": []
  }
 ],
 "metadata": {
  "kernelspec": {
   "display_name": "Python 3",
   "language": "python",
   "name": "python3"
  },
  "language_info": {
   "codemirror_mode": {
    "name": "ipython",
    "version": 3
   },
   "file_extension": ".py",
   "mimetype": "text/x-python",
   "name": "python",
   "nbconvert_exporter": "python",
   "pygments_lexer": "ipython3",
   "version": "3.5.0"
  }
 },
 "nbformat": 4,
 "nbformat_minor": 2
}
