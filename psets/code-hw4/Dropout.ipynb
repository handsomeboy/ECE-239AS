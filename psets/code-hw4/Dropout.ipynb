{
 "cells": [
  {
   "cell_type": "markdown",
   "metadata": {
    "deletable": true,
    "editable": true
   },
   "source": [
    "# Dropout\n",
    "\n",
    "In this notebook, you will implement dropout.  Then we will ask you to train a network with batchnorm and dropout, and acheive over 60% accuracy on CIFAR-10.\n",
    "\n",
    "CS231n has built a solid API for building these modular frameworks and training them, and we will use their very well implemented framework as opposed to \"reinventing the wheel.\"  This includes using their Solver, various utility functions, and their layer structure.  This also includes nndl.fc_net, nndl.layers, and nndl.layer_utils.  As in prior assignments, we thank Serena Yeung & Justin Johnson for permission to use code written for the CS 231n class (cs231n.stanford.edu).  "
   ]
  },
  {
   "cell_type": "code",
   "execution_count": 2,
   "metadata": {
    "collapsed": true,
    "deletable": true,
    "editable": true
   },
   "outputs": [],
   "source": [
    "## Import and setups\n",
    "\n",
    "import time\n",
    "import numpy as np\n",
    "import matplotlib.pyplot as plt\n",
    "from nndl.fc_net import *\n",
    "from nndl.layers import *\n",
    "from cs231n.data_utils import get_CIFAR10_data\n",
    "from cs231n.gradient_check import eval_numerical_gradient, eval_numerical_gradient_array\n",
    "from cs231n.solver import Solver\n",
    "\n",
    "%matplotlib inline\n",
    "plt.rcParams['figure.figsize'] = (10.0, 8.0) # set default size of plots\n",
    "plt.rcParams['image.interpolation'] = 'nearest'\n",
    "plt.rcParams['image.cmap'] = 'gray'\n",
    "\n",
    "# for auto-reloading external modules\n",
    "# see http://stackoverflow.com/questions/1907993/autoreload-of-modules-in-ipython\n",
    "%load_ext autoreload\n",
    "%autoreload 2\n",
    "\n",
    "def rel_error(x, y):\n",
    "  \"\"\" returns relative error \"\"\"\n",
    "  return np.max(np.abs(x - y) / (np.maximum(1e-8, np.abs(x) + np.abs(y))))"
   ]
  },
  {
   "cell_type": "code",
   "execution_count": 3,
   "metadata": {
    "collapsed": false,
    "deletable": true,
    "editable": true
   },
   "outputs": [
    {
     "name": "stdout",
     "output_type": "stream",
     "text": [
      "X_val: (1000, 3, 32, 32) \n",
      "y_val: (1000,) \n",
      "y_train: (49000,) \n",
      "y_test: (1000,) \n",
      "X_train: (49000, 3, 32, 32) \n",
      "X_test: (1000, 3, 32, 32) \n"
     ]
    }
   ],
   "source": [
    "# Load the (preprocessed) CIFAR10 data.\n",
    "\n",
    "data = get_CIFAR10_data()\n",
    "for k in data.keys():\n",
    "  print('{}: {} '.format(k, data[k].shape))"
   ]
  },
  {
   "cell_type": "markdown",
   "metadata": {
    "deletable": true,
    "editable": true
   },
   "source": [
    "## Dropout forward pass\n",
    "\n",
    "Implement the training and test time dropout forward pass, `dropout_forward`, in `nndl/layers.py`. After that, test your implementation by running the following cell."
   ]
  },
  {
   "cell_type": "code",
   "execution_count": 16,
   "metadata": {
    "collapsed": false,
    "deletable": true,
    "editable": true
   },
   "outputs": [
    {
     "name": "stdout",
     "output_type": "stream",
     "text": [
      "Running tests with p =  0.3\n",
      "Mean of input:  10.0026666996\n",
      "Mean of train-time output:  9.92586586805\n",
      "Mean of test-time output:  10.0026666996\n",
      "Fraction of train-time output set to zero:  0.702332\n",
      "Fraction of test-time output set to zero:  0.0\n",
      "Running tests with p =  0.6\n",
      "Mean of input:  10.0026666996\n",
      "Mean of train-time output:  10.0272959828\n",
      "Mean of test-time output:  10.0026666996\n",
      "Fraction of train-time output set to zero:  0.3988\n",
      "Fraction of test-time output set to zero:  0.0\n",
      "Running tests with p =  0.75\n",
      "Mean of input:  10.0026666996\n",
      "Mean of train-time output:  9.99589885894\n",
      "Mean of test-time output:  10.0026666996\n",
      "Fraction of train-time output set to zero:  0.250448\n",
      "Fraction of test-time output set to zero:  0.0\n"
     ]
    }
   ],
   "source": [
    "x = np.random.randn(500, 500) + 10\n",
    "\n",
    "for p in [0.3, 0.6, 0.75]:\n",
    "  out, _ = dropout_forward(x, {'mode': 'train', 'p': p})\n",
    "  out_test, _ = dropout_forward(x, {'mode': 'test', 'p': p})\n",
    "\n",
    "  print('Running tests with p = ', p)\n",
    "  print('Mean of input: ', x.mean())\n",
    "  print('Mean of train-time output: ', out.mean())\n",
    "  print('Mean of test-time output: ', out_test.mean())\n",
    "  print('Fraction of train-time output set to zero: ', (out == 0).mean())\n",
    "  print('Fraction of test-time output set to zero: ', (out_test == 0).mean())"
   ]
  },
  {
   "cell_type": "markdown",
   "metadata": {
    "deletable": true,
    "editable": true
   },
   "source": [
    "## Dropout backward pass\n",
    "\n",
    "Implement the backward pass, `dropout_backward`, in `nndl/layers.py`.  After that, test your gradients by running the following cell:"
   ]
  },
  {
   "cell_type": "code",
   "execution_count": 17,
   "metadata": {
    "collapsed": false,
    "deletable": true,
    "editable": true
   },
   "outputs": [
    {
     "name": "stdout",
     "output_type": "stream",
     "text": [
      "dx relative error:  5.44561005301e-11\n"
     ]
    }
   ],
   "source": [
    "x = np.random.randn(10, 10) + 10\n",
    "dout = np.random.randn(*x.shape)\n",
    "\n",
    "dropout_param = {'mode': 'train', 'p': 0.8, 'seed': 123}\n",
    "out, cache = dropout_forward(x, dropout_param)\n",
    "dx = dropout_backward(dout, cache)\n",
    "dx_num = eval_numerical_gradient_array(lambda xx: dropout_forward(xx, dropout_param)[0], x, dout)\n",
    "\n",
    "print('dx relative error: ', rel_error(dx, dx_num))"
   ]
  },
  {
   "cell_type": "markdown",
   "metadata": {
    "deletable": true,
    "editable": true
   },
   "source": [
    "## Implement a fully connected neural network with dropout layers\n",
    "\n",
    "Modify the `FullyConnectedNet()` class in `nndl/fc_net.py` to incorporate dropout.  A dropout layer should be incorporated after every ReLU layer.  Concretely, there shouldn't be a dropout at the output layer since there is no ReLU at the output layer. You will need to modify the class in the following areas:\n",
    "\n",
    "(1) In the forward pass, you will need to incorporate a dropout layer after every relu layer.\n",
    "\n",
    "(2) In the backward pass, you will need to incorporate a dropout backward pass layer.\n",
    "\n",
    "Check your implementation by running the following code.  Our W1 gradient relative error is on the order of 1e-6 (the largest of all the relative errors)."
   ]
  },
  {
   "cell_type": "code",
   "execution_count": 18,
   "metadata": {
    "collapsed": false,
    "deletable": true,
    "editable": true,
    "scrolled": false
   },
   "outputs": [
    {
     "name": "stdout",
     "output_type": "stream",
     "text": [
      "Running check with dropout =  0\n",
      "Initial loss:  2.31418234444\n",
      "W1 relative error: 3.152163618051263e-08\n",
      "W2 relative error: 1.696950190217807e-08\n",
      "b1 relative error: 1.9872671943271133e-09\n",
      "b2 relative error: 1.5649442082126447e-10\n",
      "\n",
      "\n",
      "Running check with dropout =  0.25\n",
      "Initial loss:  2.31535237536\n",
      "W1 relative error: 6.9892606168965885e-09\n",
      "W2 relative error: 3.102857679581115e-10\n",
      "b1 relative error: 3.8162549597911735e-10\n",
      "b2 relative error: 1.0709568129602027e-10\n",
      "\n",
      "\n",
      "Running check with dropout =  0.5\n",
      "Initial loss:  2.3055719127\n",
      "W1 relative error: 1.2303069007747731e-08\n",
      "W2 relative error: 2.2394060721635313e-09\n",
      "b1 relative error: 1.1833771783525315e-08\n",
      "b2 relative error: 1.710237953855547e-10\n",
      "\n",
      "\n"
     ]
    }
   ],
   "source": [
    "N, D, H1, H2, C = 2, 15, 20, 30, 10\n",
    "X = np.random.randn(N, D)\n",
    "y = np.random.randint(C, size=(N,))\n",
    "\n",
    "for dropout in [0, 0.25, 0.5]:\n",
    "  print('Running check with dropout = ', dropout)\n",
    "  model = FullyConnectedNet([H1, H2], input_dim=D, num_classes=C,\n",
    "                            weight_scale=5e-2, dtype=np.float64,\n",
    "                            dropout=dropout, seed=123)\n",
    "\n",
    "  loss, grads = model.loss(X, y)\n",
    "  print('Initial loss: ', loss)\n",
    "\n",
    "  for name in sorted(grads):\n",
    "    f = lambda _: model.loss(X, y)[0]\n",
    "    grad_num = eval_numerical_gradient(f, model.params[name], verbose=False, h=1e-5)\n",
    "    print('{} relative error: {}'.format(name, rel_error(grad_num, grads[name])))\n",
    "  print('\\n')"
   ]
  },
  {
   "cell_type": "markdown",
   "metadata": {
    "deletable": true,
    "editable": true
   },
   "source": [
    "## Dropout as a regularizer\n",
    "\n",
    "In class, we claimed that dropout acts as a regularizer by effectively bagging.  To check this, we will train two small networks, one with dropout and one without dropout.  "
   ]
  },
  {
   "cell_type": "code",
   "execution_count": 21,
   "metadata": {
    "collapsed": false,
    "deletable": true,
    "editable": true
   },
   "outputs": [
    {
     "name": "stdout",
     "output_type": "stream",
     "text": [
      "(Iteration 1 / 125) loss: 2.351822\n",
      "(Epoch 0 / 25) train acc: 0.224000; val_acc: 0.192000\n",
      "(Epoch 1 / 25) train acc: 0.344000; val_acc: 0.274000\n",
      "(Epoch 2 / 25) train acc: 0.448000; val_acc: 0.291000\n",
      "(Epoch 3 / 25) train acc: 0.520000; val_acc: 0.298000\n",
      "(Epoch 4 / 25) train acc: 0.572000; val_acc: 0.319000\n",
      "(Epoch 5 / 25) train acc: 0.674000; val_acc: 0.329000\n",
      "(Epoch 6 / 25) train acc: 0.734000; val_acc: 0.321000\n",
      "(Epoch 7 / 25) train acc: 0.804000; val_acc: 0.327000\n",
      "(Epoch 8 / 25) train acc: 0.808000; val_acc: 0.323000\n",
      "(Epoch 9 / 25) train acc: 0.858000; val_acc: 0.316000\n",
      "(Epoch 10 / 25) train acc: 0.916000; val_acc: 0.310000\n",
      "(Epoch 11 / 25) train acc: 0.940000; val_acc: 0.322000\n",
      "(Epoch 12 / 25) train acc: 0.946000; val_acc: 0.310000\n",
      "(Epoch 13 / 25) train acc: 0.920000; val_acc: 0.291000\n",
      "(Epoch 14 / 25) train acc: 0.966000; val_acc: 0.301000\n",
      "(Epoch 15 / 25) train acc: 0.986000; val_acc: 0.299000\n",
      "(Epoch 16 / 25) train acc: 0.994000; val_acc: 0.308000\n",
      "(Epoch 17 / 25) train acc: 0.994000; val_acc: 0.296000\n",
      "(Epoch 18 / 25) train acc: 0.994000; val_acc: 0.324000\n",
      "(Epoch 19 / 25) train acc: 0.998000; val_acc: 0.326000\n",
      "(Epoch 20 / 25) train acc: 1.000000; val_acc: 0.314000\n",
      "(Iteration 101 / 125) loss: 0.023176\n",
      "(Epoch 21 / 25) train acc: 1.000000; val_acc: 0.302000\n",
      "(Epoch 22 / 25) train acc: 1.000000; val_acc: 0.309000\n",
      "(Epoch 23 / 25) train acc: 1.000000; val_acc: 0.318000\n",
      "(Epoch 24 / 25) train acc: 1.000000; val_acc: 0.318000\n",
      "(Epoch 25 / 25) train acc: 1.000000; val_acc: 0.317000\n",
      "(Iteration 1 / 125) loss: 2.357630\n",
      "(Epoch 0 / 25) train acc: 0.154000; val_acc: 0.148000\n",
      "(Epoch 1 / 25) train acc: 0.302000; val_acc: 0.223000\n",
      "(Epoch 2 / 25) train acc: 0.344000; val_acc: 0.230000\n",
      "(Epoch 3 / 25) train acc: 0.432000; val_acc: 0.305000\n",
      "(Epoch 4 / 25) train acc: 0.474000; val_acc: 0.301000\n",
      "(Epoch 5 / 25) train acc: 0.476000; val_acc: 0.322000\n",
      "(Epoch 6 / 25) train acc: 0.524000; val_acc: 0.311000\n",
      "(Epoch 7 / 25) train acc: 0.578000; val_acc: 0.298000\n",
      "(Epoch 8 / 25) train acc: 0.580000; val_acc: 0.304000\n",
      "(Epoch 9 / 25) train acc: 0.630000; val_acc: 0.331000\n",
      "(Epoch 10 / 25) train acc: 0.658000; val_acc: 0.327000\n",
      "(Epoch 11 / 25) train acc: 0.682000; val_acc: 0.330000\n",
      "(Epoch 12 / 25) train acc: 0.722000; val_acc: 0.336000\n",
      "(Epoch 13 / 25) train acc: 0.750000; val_acc: 0.350000\n",
      "(Epoch 14 / 25) train acc: 0.766000; val_acc: 0.344000\n",
      "(Epoch 15 / 25) train acc: 0.782000; val_acc: 0.323000\n",
      "(Epoch 16 / 25) train acc: 0.782000; val_acc: 0.338000\n",
      "(Epoch 17 / 25) train acc: 0.806000; val_acc: 0.343000\n",
      "(Epoch 18 / 25) train acc: 0.830000; val_acc: 0.349000\n",
      "(Epoch 19 / 25) train acc: 0.872000; val_acc: 0.331000\n",
      "(Epoch 20 / 25) train acc: 0.868000; val_acc: 0.338000\n",
      "(Iteration 101 / 125) loss: 0.809233\n",
      "(Epoch 21 / 25) train acc: 0.858000; val_acc: 0.333000\n",
      "(Epoch 22 / 25) train acc: 0.872000; val_acc: 0.330000\n",
      "(Epoch 23 / 25) train acc: 0.886000; val_acc: 0.326000\n",
      "(Epoch 24 / 25) train acc: 0.898000; val_acc: 0.316000\n",
      "(Epoch 25 / 25) train acc: 0.906000; val_acc: 0.319000\n"
     ]
    }
   ],
   "source": [
    "# Train two identical nets, one with dropout and one without\n",
    "\n",
    "num_train = 500\n",
    "small_data = {\n",
    "  'X_train': data['X_train'][:num_train],\n",
    "  'y_train': data['y_train'][:num_train],\n",
    "  'X_val': data['X_val'],\n",
    "  'y_val': data['y_val'],\n",
    "}\n",
    "\n",
    "solvers = {}\n",
    "dropout_choices = [0, 0.6]\n",
    "for dropout in dropout_choices:\n",
    "  model = FullyConnectedNet([100, 100, 100], dropout=dropout)\n",
    "\n",
    "  solver = Solver(model, small_data,\n",
    "                  num_epochs=25, batch_size=100,\n",
    "                  update_rule='adam',\n",
    "                  optim_config={\n",
    "                    'learning_rate': 5e-4,\n",
    "                  },\n",
    "                  verbose=True, print_every=100)\n",
    "  solver.train()\n",
    "  solvers[dropout] = solver"
   ]
  },
  {
   "cell_type": "code",
   "execution_count": 22,
   "metadata": {
    "collapsed": false,
    "deletable": true,
    "editable": true
   },
   "outputs": [
    {
     "data": {
      "image/png": "[encoded data removed]",
      "text/plain": [
       "<matplotlib.figure.Figure at 0x103f9a748>"
      ]
     },
     "metadata": {},
     "output_type": "display_data"
    }
   ],
   "source": [
    "# Plot train and validation accuracies of the two models\n",
    "\n",
    "train_accs = []\n",
    "val_accs = []\n",
    "for dropout in dropout_choices:\n",
    "  solver = solvers[dropout]\n",
    "  train_accs.append(solver.train_acc_history[-1])\n",
    "  val_accs.append(solver.val_acc_history[-1])\n",
    "\n",
    "plt.subplot(3, 1, 1)\n",
    "for dropout in dropout_choices:\n",
    "  plt.plot(solvers[dropout].train_acc_history, 'o', label='%.2f dropout' % dropout)\n",
    "plt.title('Train accuracy')\n",
    "plt.xlabel('Epoch')\n",
    "plt.ylabel('Accuracy')\n",
    "plt.legend(ncol=2, loc='lower right')\n",
    "  \n",
    "plt.subplot(3, 1, 2)\n",
    "for dropout in dropout_choices:\n",
    "  plt.plot(solvers[dropout].val_acc_history, 'o', label='%.2f dropout' % dropout)\n",
    "plt.title('Val accuracy')\n",
    "plt.xlabel('Epoch')\n",
    "plt.ylabel('Accuracy')\n",
    "plt.legend(ncol=2, loc='lower right')\n",
    "\n",
    "plt.gcf().set_size_inches(15, 15)\n",
    "plt.show()"
   ]
  },
  {
   "cell_type": "markdown",
   "metadata": {
    "deletable": true,
    "editable": true
   },
   "source": [
    "## Question\n",
    "\n",
    "Based off the results of this experiment, is dropout performing regularization?  Explain your answer."
   ]
  },
  {
   "cell_type": "markdown",
   "metadata": {
    "deletable": true,
    "editable": true
   },
   "source": [
    "## Answer:\n",
    "\n",
    "Yes, dropout is performing regularizaiton based on the experiment. In class and in the book, we gave a broad definition of regularization as anything that is done to improve the generalization accuracy (in this case estiamted by the validation accuracy), at a possible cost to the training accuracy. Here, we can see that we had slightly reduced training accuracy but did better on the validation dataset using dropout. "
   ]
  },
  {
   "cell_type": "markdown",
   "metadata": {
    "deletable": true,
    "editable": true
   },
   "source": [
    "## Final part of the assignment\n",
    "\n",
    "Get over 60% validation accuracy on CIFAR-10 by using the layers you have implemented.  You will be graded according to the following equation:\n",
    "\n",
    "min(floor((X - 32%)) / 28%, 1) \n",
    "where if you get 60% or higher validation accuracy, you get full points."
   ]
  },
  {
   "cell_type": "code",
   "execution_count": null,
   "metadata": {
    "collapsed": false,
    "deletable": true,
    "editable": true,
    "scrolled": false
   },
   "outputs": [
    {
     "name": "stdout",
     "output_type": "stream",
     "text": [
      "training network number 0\n",
      "(Iteration 1 / 24500) loss: 2.287175\n",
      "(Epoch 0 / 25) train acc: 0.169000; val_acc: 0.185000\n",
      "(Iteration 101 / 24500) loss: 1.764590\n",
      "(Iteration 201 / 24500) loss: 1.734919\n",
      "(Iteration 301 / 24500) loss: 1.518829\n",
      "(Iteration 401 / 24500) loss: 1.400681\n",
      "(Iteration 501 / 24500) loss: 1.879305\n",
      "(Iteration 601 / 24500) loss: 1.651371\n",
      "(Iteration 701 / 24500) loss: 1.465375\n",
      "(Iteration 801 / 24500) loss: 1.516449\n",
      "(Iteration 901 / 24500) loss: 1.463760\n",
      "(Epoch 1 / 25) train acc: 0.470000; val_acc: 0.463000\n",
      "(Iteration 1001 / 24500) loss: 1.336261\n",
      "(Iteration 1101 / 24500) loss: 1.523066\n",
      "(Iteration 1201 / 24500) loss: 1.266272\n",
      "(Iteration 1301 / 24500) loss: 1.454066\n"
     ]
    }
   ],
   "source": [
    "#================================================================ #\n",
    "# YOUR CODE HERE:\n",
    "#   Implement a FC-net that achieves at least 60% validation accuracy\n",
    "#   on CIFAR-10.\n",
    "# ================================================================ #\n",
    "\n",
    "# so in order to do this, I started off with a broad hyperparameter search and figured out where I got close to 60.\n",
    "# then I fine tuned the hyperparams in that area\n",
    "# the following code shows the fine-tuning process; \n",
    "#the broad search process is exactly the same, but with larger variations allowed for hyperparam choices.\n",
    "\n",
    "# my main idea was to have a deep, large network so it has high expressivity\n",
    "# but control overfitting with a large dropout.\n",
    "# batchnorm, learning rate decay, and the adam optimizer also helped.\n",
    "solvers = {}\n",
    "dropout_choices = [0.8, 0.9]\n",
    "batch_sizes = [50]\n",
    "learning_rates = [1e-3] # 5e-3 etc\n",
    "hidden_layer_sizes = [500]\n",
    "lr_decay = 0.1\n",
    "best_val_acc, best_solver = 0.0, None\n",
    "# train 50 networks and see if any of then get over 60\n",
    "for i in range(50):\n",
    "    print('training network number {}'.format(i))\n",
    "    h1_dim, h2_dim, h3_dim = np.random.choice(hidden_layer_sizes), np.random.choice(hidden_layer_sizes), np.random.choice(hidden_layer_sizes)\n",
    "    batch_size = np.random.choice(batch_sizes)\n",
    "    learning_rate = np.random.choice(learning_rates)\n",
    "    dropout = np.random.choice(dropout_choices)\n",
    "    model = FullyConnectedNet([h1_dim, h2_dim, h3_dim, h3_dim], dropout = dropout, weight_scale = 0.01, use_batchnorm=True)\n",
    "    solver = Solver(model, data, num_epochs = 25, batch_size = batch_size, update_rule = 'adam', optim_config = { 'learning_rate': learning_rate,}, lr_decay = lr_decay, verbose = True, print_every = 100)\n",
    "    solver.train()\n",
    "    print('done training. Got a test accuracy of {} and a validation accuracy of {}'\n",
    "        .format(solver.train_acc_history[-1], solver.val_acc_history[-1]))\n",
    "    if solver.val_acc_history[-1] > best_val_acc:\n",
    "        best_val_acc = solver.val_acc_history[-1]\n",
    "        best_solver = solver\n",
    "        print('found val acc of {} using h1_dim: {}, h2_dim: {}, h3_dim: {}, batch_size = {}, learning_rate = {}, dropout = {}'.format(best_val_acc, h1_dim, h2_dim, h3_dim, batch_size, learning_rate, dropout))\n",
    "        if best_val_acc > 0.6:\n",
    "            break\n",
    "    \n",
    "# ================== #\n",
    "# END YOUR CODE HERE\n",
    "# ================================================================ #\n"
   ]
  },
  {
   "cell_type": "code",
   "execution_count": null,
   "metadata": {
    "collapsed": true,
    "deletable": true,
    "editable": true
   },
   "outputs": [],
   "source": [
    "#found val acc of 0.584 using h1_dim: 400, h2_dim: 400, h3_dim: 400, batch_size = 100, learning_rate = 0.001, dropout = 0.75\n"
   ]
  }
 ],
 "metadata": {
  "kernelspec": {
   "display_name": "Python 3",
   "language": "python",
   "name": "python3"
  },
  "language_info": {
   "codemirror_mode": {
    "name": "ipython",
    "version": 3
   },
   "file_extension": ".py",
   "mimetype": "text/x-python",
   "name": "python",
   "nbconvert_exporter": "python",
   "pygments_lexer": "ipython3",
   "version": "3.5.0"
  }
 },
 "nbformat": 4,
 "nbformat_minor": 2
}
