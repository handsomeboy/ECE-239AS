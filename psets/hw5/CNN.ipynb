{
 "cells": [
  {
   "cell_type": "markdown",
   "metadata": {
    "deletable": true,
    "editable": true
   },
   "source": [
    "# Convolutional neural networks\n",
    "\n",
    "In this notebook, we'll put together our convolutional layers to implement a 3-layer CNN.  Then, we'll ask you to implement a CNN that can achieve > 65% validation error on CIFAR-10.\n",
    "\n",
    "CS231n has built a solid API for building these modular frameworks and training them, and we will use their very well implemented framework as opposed to \"reinventing the wheel.\"  This includes using their Solver, various utility functions, their layer structure, and their implementation of fast CNN layers.  This also includes nndl.fc_net, nndl.layers, and nndl.layer_utils.  As in prior assignments, we thank Serena Yeung & Justin Johnson for permission to use code written for the CS 231n class (cs231n.stanford.edu).  \n",
    "\n",
    "If you have not completed the Spatial BatchNorm Notebook, please see the following description from that notebook:\n",
    "\n",
    "Please copy and paste your prior implemented code from HW #4 to start this assignment.  If you did not correctly implement the layers in HW #4, you may collaborate with a classmate to use their layer implementations from HW #4.  You may also visit TA or Prof OH to correct your implementation.  \n",
    "\n",
    "You'll want to copy and paste from HW #4:\n",
    "    - layers.py for your FC network layers, as well as batchnorm and dropout.\n",
    "    - layer_utils.py for your combined FC network layers.\n",
    "    - optim.py for your optimizers.\n",
    "\n",
    "Be sure to place these in the `nndl/` directory so they're imported correctly.  Note, as announced in class, we will not be releasing our solutions."
   ]
  },
  {
   "cell_type": "code",
   "execution_count": 1,
   "metadata": {
    "collapsed": true,
    "deletable": true,
    "editable": true
   },
   "outputs": [],
   "source": [
    "# As usual, a bit of setup\n",
    "\n",
    "import numpy as np\n",
    "import matplotlib.pyplot as plt\n",
    "from nndl.cnn import *\n",
    "from cs231n.data_utils import get_CIFAR10_data\n",
    "from cs231n.gradient_check import eval_numerical_gradient_array, eval_numerical_gradient\n",
    "from nndl.layers import *\n",
    "from nndl.conv_layers import *\n",
    "from cs231n.fast_layers import *\n",
    "from cs231n.solver import Solver\n",
    "\n",
    "%matplotlib inline\n",
    "plt.rcParams['figure.figsize'] = (10.0, 8.0) # set default size of plots\n",
    "plt.rcParams['image.interpolation'] = 'nearest'\n",
    "plt.rcParams['image.cmap'] = 'gray'\n",
    "\n",
    "# for auto-reloading external modules\n",
    "# see http://stackoverflow.com/questions/1907993/autoreload-of-modules-in-ipython\n",
    "%load_ext autoreload\n",
    "%autoreload 2\n",
    "\n",
    "def rel_error(x, y):\n",
    "  \"\"\" returns relative error \"\"\"\n",
    "  return np.max(np.abs(x - y) / (np.maximum(1e-8, np.abs(x) + np.abs(y))))"
   ]
  },
  {
   "cell_type": "code",
   "execution_count": 2,
   "metadata": {
    "collapsed": false,
    "deletable": true,
    "editable": true
   },
   "outputs": [
    {
     "name": "stdout",
     "output_type": "stream",
     "text": [
      "y_test: (1000,) \n",
      "X_train: (49000, 3, 32, 32) \n",
      "y_val: (1000,) \n",
      "y_train: (49000,) \n",
      "X_val: (1000, 3, 32, 32) \n",
      "X_test: (1000, 3, 32, 32) \n"
     ]
    }
   ],
   "source": [
    "# Load the (preprocessed) CIFAR10 data.\n",
    "\n",
    "data = get_CIFAR10_data()\n",
    "for k in data.keys():\n",
    "  print('{}: {} '.format(k, data[k].shape))"
   ]
  },
  {
   "cell_type": "markdown",
   "metadata": {
    "deletable": true,
    "editable": true
   },
   "source": [
    "## Three layer CNN\n",
    "\n",
    "In this notebook, you will implement a three layer CNN.  The `ThreeLayerConvNet` class is in `nndl/cnn.py`.  You'll need to modify that code for this section, including the initialization, as well as the calculation of the loss and gradients.  You should be able to use the building blocks you have either earlier coded or that we have provided.  Be sure to use the fast layers.\n",
    "\n",
    "The architecture of this CNN will be:\n",
    "\n",
    "conv - relu - 2x2 max pool - affine - relu - affine - softmax\n",
    "\n",
    "We won't use batchnorm yet.  You've also done enough of these to know how to debug; use the cells below.\n",
    "\n",
    "Note: As we are implementing several layers CNN networks. The gradient error can be expected for the `eval_numerical_gradient()` function. If your `W1 max relative error` and `W2 max relative error` are around or below 0.01, they should be acceptable. Other errors should be less than 1e-5. "
   ]
  },
  {
   "cell_type": "code",
   "execution_count": 3,
   "metadata": {
    "collapsed": false,
    "deletable": true,
    "editable": true
   },
   "outputs": [
    {
     "name": "stdout",
     "output_type": "stream",
     "text": [
      "2.30296296706\n",
      "W1 max relative error: 3.2585307036057e-05\n",
      "W2 max relative error: 0.00026179375117341006\n",
      "W3 max relative error: 8.32542404276129e-06\n",
      "b1 max relative error: 4.768926092543236e-06\n",
      "b2 max relative error: 4.47864185185714e-07\n",
      "b3 max relative error: 8.809336696961498e-10\n"
     ]
    }
   ],
   "source": [
    "num_inputs = 2\n",
    "input_dim = (3, 16, 16)\n",
    "reg = 0.0\n",
    "num_classes = 10\n",
    "X = np.random.randn(num_inputs, *input_dim)\n",
    "y = np.random.randint(num_classes, size=num_inputs)\n",
    "\n",
    "model = ThreeLayerConvNet(num_filters=3, filter_size=3,\n",
    "                          input_dim=input_dim, hidden_dim=7,reg = 0.5,\n",
    "                          dtype=np.float64)\n",
    "loss, grads = model.loss(X, y)\n",
    "print(loss)\n",
    "for param_name in sorted(grads):\n",
    "    f = lambda _: model.loss(X, y)[0]\n",
    "    param_grad_num = eval_numerical_gradient(f, model.params[param_name], verbose=False, h=1e-6)\n",
    "    e = rel_error(param_grad_num, grads[param_name])\n",
    "    print('{} max relative error: {}'.format(param_name, rel_error(param_grad_num, grads[param_name])))"
   ]
  },
  {
   "cell_type": "markdown",
   "metadata": {
    "deletable": true,
    "editable": true
   },
   "source": [
    "### Overfit small dataset\n",
    "\n",
    "To check your CNN implementation, let's overfit a small dataset."
   ]
  },
  {
   "cell_type": "code",
   "execution_count": 46,
   "metadata": {
    "collapsed": false,
    "deletable": true,
    "editable": true
   },
   "outputs": [
    {
     "name": "stdout",
     "output_type": "stream",
     "text": [
      "(Iteration 1 / 20) loss: 2.298065\n",
      "(Epoch 0 / 10) train acc: 0.140000; val_acc: 0.111000\n",
      "(Iteration 2 / 20) loss: 5.752372\n",
      "(Epoch 1 / 10) train acc: 0.130000; val_acc: 0.079000\n",
      "(Iteration 3 / 20) loss: 2.851927\n",
      "(Iteration 4 / 20) loss: 2.703952\n",
      "(Epoch 2 / 10) train acc: 0.320000; val_acc: 0.173000\n",
      "(Iteration 5 / 20) loss: 2.328606\n",
      "(Iteration 6 / 20) loss: 2.783772\n",
      "(Epoch 3 / 10) train acc: 0.360000; val_acc: 0.199000\n",
      "(Iteration 7 / 20) loss: 1.850825\n",
      "(Iteration 8 / 20) loss: 1.966538\n",
      "(Epoch 4 / 10) train acc: 0.350000; val_acc: 0.180000\n",
      "(Iteration 9 / 20) loss: 2.153191\n",
      "(Iteration 10 / 20) loss: 1.875127\n",
      "(Epoch 5 / 10) train acc: 0.400000; val_acc: 0.181000\n",
      "(Iteration 11 / 20) loss: 1.780969\n",
      "(Iteration 12 / 20) loss: 1.712593\n",
      "(Epoch 6 / 10) train acc: 0.480000; val_acc: 0.201000\n",
      "(Iteration 13 / 20) loss: 1.731274\n",
      "(Iteration 14 / 20) loss: 1.680493\n",
      "(Epoch 7 / 10) train acc: 0.510000; val_acc: 0.199000\n",
      "(Iteration 15 / 20) loss: 1.380142\n",
      "(Iteration 16 / 20) loss: 1.436825\n",
      "(Epoch 8 / 10) train acc: 0.560000; val_acc: 0.185000\n",
      "(Iteration 17 / 20) loss: 1.407573\n",
      "(Iteration 18 / 20) loss: 0.981924\n",
      "(Epoch 9 / 10) train acc: 0.700000; val_acc: 0.190000\n",
      "(Iteration 19 / 20) loss: 1.340732\n",
      "(Iteration 20 / 20) loss: 1.225642\n",
      "(Epoch 10 / 10) train acc: 0.730000; val_acc: 0.206000\n"
     ]
    }
   ],
   "source": [
    "num_train = 100\n",
    "small_data = {\n",
    "  'X_train': data['X_train'][:num_train],\n",
    "  'y_train': data['y_train'][:num_train],\n",
    "  'X_val': data['X_val'],\n",
    "  'y_val': data['y_val'],\n",
    "}\n",
    "\n",
    "model = ThreeLayerConvNet(weight_scale=1e-2)\n",
    "\n",
    "solver = Solver(model, small_data,\n",
    "                num_epochs=10, batch_size=50,\n",
    "                update_rule='adam',\n",
    "                optim_config={\n",
    "                  'learning_rate': 1e-3,\n",
    "                },\n",
    "                verbose=True, print_every=1)\n",
    "solver.train()"
   ]
  },
  {
   "cell_type": "code",
   "execution_count": 47,
   "metadata": {
    "collapsed": false,
    "deletable": true,
    "editable": true
   },
   "outputs": [
    {
     "data": {
      "image/png": "[encoded data removed]",
      "text/plain": [
       "<matplotlib.figure.Figure at 0x10a15b710>"
      ]
     },
     "metadata": {},
     "output_type": "display_data"
    }
   ],
   "source": [
    "plt.subplot(2, 1, 1)\n",
    "plt.plot(solver.loss_history, 'o')\n",
    "plt.xlabel('iteration')\n",
    "plt.ylabel('loss')\n",
    "\n",
    "plt.subplot(2, 1, 2)\n",
    "plt.plot(solver.train_acc_history, '-o')\n",
    "plt.plot(solver.val_acc_history, '-o')\n",
    "plt.legend(['train', 'val'], loc='upper left')\n",
    "plt.xlabel('epoch')\n",
    "plt.ylabel('accuracy')\n",
    "plt.show()"
   ]
  },
  {
   "cell_type": "markdown",
   "metadata": {
    "deletable": true,
    "editable": true
   },
   "source": [
    "## Train the network\n",
    "\n",
    "Now we train the 3 layer CNN on CIFAR-10 and assess its accuracy."
   ]
  },
  {
   "cell_type": "code",
   "execution_count": null,
   "metadata": {
    "collapsed": false,
    "deletable": true,
    "editable": true,
    "scrolled": false
   },
   "outputs": [
    {
     "name": "stdout",
     "output_type": "stream",
     "text": [
      "(Iteration 1 / 980) loss: 2.304831\n",
      "(Epoch 0 / 1) train acc: 0.092000; val_acc: 0.105000\n",
      "(Iteration 21 / 980) loss: 1.996945\n",
      "(Iteration 41 / 980) loss: 2.164343\n",
      "(Iteration 61 / 980) loss: 1.966932\n",
      "(Iteration 81 / 980) loss: 2.096401\n",
      "(Iteration 101 / 980) loss: 1.945771\n",
      "(Iteration 121 / 980) loss: 2.001554\n",
      "(Iteration 141 / 980) loss: 1.774257\n",
      "(Iteration 161 / 980) loss: 1.898888\n",
      "(Iteration 181 / 980) loss: 1.872793\n",
      "(Iteration 201 / 980) loss: 1.590161\n",
      "(Iteration 221 / 980) loss: 1.671499\n",
      "(Iteration 241 / 980) loss: 1.929113\n",
      "(Iteration 261 / 980) loss: 2.037842\n",
      "(Iteration 281 / 980) loss: 1.802522\n",
      "(Iteration 301 / 980) loss: 1.723093\n",
      "(Iteration 321 / 980) loss: 1.625739\n",
      "(Iteration 341 / 980) loss: 1.774984\n",
      "(Iteration 361 / 980) loss: 1.724849\n",
      "(Iteration 381 / 980) loss: 1.488926\n",
      "(Iteration 401 / 980) loss: 1.573739\n",
      "(Iteration 421 / 980) loss: 1.723887\n",
      "(Iteration 441 / 980) loss: 1.508812\n",
      "(Iteration 461 / 980) loss: 1.438466\n",
      "(Iteration 481 / 980) loss: 1.533829\n",
      "(Iteration 501 / 980) loss: 1.904903\n",
      "(Iteration 521 / 980) loss: 1.442231\n",
      "(Iteration 541 / 980) loss: 1.803634\n",
      "(Iteration 561 / 980) loss: 1.555259\n",
      "(Iteration 581 / 980) loss: 1.347561\n",
      "(Iteration 601 / 980) loss: 1.404874\n",
      "(Iteration 621 / 980) loss: 1.665076\n",
      "(Iteration 641 / 980) loss: 1.386513\n",
      "(Iteration 661 / 980) loss: 1.437429\n",
      "(Iteration 681 / 980) loss: 1.481472\n",
      "(Iteration 701 / 980) loss: 1.698554\n",
      "(Iteration 721 / 980) loss: 1.479493\n",
      "(Iteration 741 / 980) loss: 1.339297\n",
      "(Iteration 761 / 980) loss: 1.138838\n",
      "(Iteration 781 / 980) loss: 1.730660\n",
      "(Iteration 801 / 980) loss: 1.749638\n",
      "(Iteration 821 / 980) loss: 1.689794\n",
      "(Iteration 841 / 980) loss: 1.503719\n",
      "(Iteration 861 / 980) loss: 1.522377\n",
      "(Iteration 881 / 980) loss: 1.304774\n",
      "(Iteration 901 / 980) loss: 1.429380\n",
      "(Iteration 921 / 980) loss: 1.478626\n",
      "(Iteration 941 / 980) loss: 1.968533\n",
      "(Iteration 961 / 980) loss: 1.394734\n",
      "(Epoch 1 / 1) train acc: 0.473000; val_acc: 0.480000\n"
     ]
    }
   ],
   "source": [
    "model = ThreeLayerConvNet(weight_scale=0.001, hidden_dim=500, reg=0.001)\n",
    "\n",
    "solver = Solver(model, data,\n",
    "                num_epochs=1, batch_size=50,\n",
    "                update_rule='adam',\n",
    "                optim_config={\n",
    "                  'learning_rate': 1e-3,\n",
    "                },\n",
    "                verbose=True, print_every=20)\n",
    "solver.train()"
   ]
  },
  {
   "cell_type": "markdown",
   "metadata": {
    "deletable": true,
    "editable": true
   },
   "source": [
    "# Get > 65% validation accuracy on CIFAR-10.\n",
    "\n",
    "In the last part of the assignment, we'll now ask you to train a CNN to get better than 65% validation accuracy on CIFAR-10.\n",
    "\n",
    "### Things you should try:\n",
    "- Filter size: Above we used 7x7; but VGGNet and onwards showed stacks of 3x3 filters are good.  \n",
    "- Number of filters: Above we used 32 filters. Do more or fewer do better?\n",
    "- Batch normalization: Try adding spatial batch normalization after convolution layers and vanilla batch normalization aafter affine layers. Do your networks train faster?\n",
    "- Network architecture: Can a deeper CNN do better?  Consider these architectures:\n",
    "    - [conv-relu-pool]xN - conv - relu - [affine]xM - [softmax or SVM]\n",
    "    - [conv-relu-pool]XN - [affine]XM - [softmax or SVM]\n",
    "    - [conv-relu-conv-relu-pool]xN - [affine]xM - [softmax or SVM]\n",
    "\n",
    "### Tips for training\n",
    "For each network architecture that you try, you should tune the learning rate and regularization strength. When doing this there are a couple important things to keep in mind:\n",
    "\n",
    "- If the parameters are working well, you should see improvement within a few hundred iterations\n",
    "- Remember the coarse-to-fine approach for hyperparameter tuning: start by testing a large range of hyperparameters for just a few training iterations to find the combinations of parameters that are working at all.\n",
    "- Once you have found some sets of parameters that seem to work, search more finely around these parameters. You may need to train for more epochs."
   ]
  },
  {
   "cell_type": "code",
   "execution_count": null,
   "metadata": {
    "collapsed": false,
    "deletable": true,
    "editable": true,
    "scrolled": false
   },
   "outputs": [
    {
     "name": "stdout",
     "output_type": "stream",
     "text": [
      "(Iteration 1 / 3920) loss: 2.338484\n",
      "(Epoch 0 / 8) train acc: 0.114000; val_acc: 0.103000\n",
      "(Iteration 26 / 3920) loss: 2.021826\n",
      "(Iteration 51 / 3920) loss: 1.922687\n",
      "(Iteration 76 / 3920) loss: 1.569540\n",
      "(Iteration 101 / 3920) loss: 1.623669\n",
      "(Iteration 126 / 3920) loss: 1.589005\n",
      "(Iteration 151 / 3920) loss: 1.614448\n",
      "(Iteration 176 / 3920) loss: 1.663943\n",
      "(Iteration 201 / 3920) loss: 1.563683\n",
      "(Iteration 226 / 3920) loss: 1.389304\n",
      "(Iteration 251 / 3920) loss: 1.414683\n",
      "(Iteration 276 / 3920) loss: 1.448997\n",
      "(Iteration 301 / 3920) loss: 1.412022\n",
      "(Iteration 326 / 3920) loss: 1.476118\n",
      "(Iteration 351 / 3920) loss: 1.441619\n",
      "(Iteration 376 / 3920) loss: 1.476675\n",
      "(Iteration 401 / 3920) loss: 1.632405\n",
      "(Iteration 426 / 3920) loss: 1.314406\n",
      "(Iteration 451 / 3920) loss: 1.318504\n",
      "(Iteration 476 / 3920) loss: 1.453052\n",
      "(Epoch 1 / 8) train acc: 0.570000; val_acc: 0.573000\n",
      "(Iteration 501 / 3920) loss: 1.153805\n",
      "(Iteration 526 / 3920) loss: 1.319514\n",
      "(Iteration 551 / 3920) loss: 1.163777\n",
      "(Iteration 576 / 3920) loss: 1.443500\n",
      "(Iteration 601 / 3920) loss: 1.485825\n",
      "(Iteration 626 / 3920) loss: 1.512717\n",
      "(Iteration 651 / 3920) loss: 1.308903\n",
      "(Iteration 676 / 3920) loss: 1.472122\n",
      "(Iteration 701 / 3920) loss: 1.074048\n",
      "(Iteration 726 / 3920) loss: 1.315555\n",
      "(Iteration 751 / 3920) loss: 1.288098\n",
      "(Iteration 776 / 3920) loss: 1.136180\n",
      "(Iteration 801 / 3920) loss: 1.310863\n",
      "(Iteration 826 / 3920) loss: 1.496786\n",
      "(Iteration 851 / 3920) loss: 1.382735\n",
      "(Iteration 876 / 3920) loss: 1.144747\n",
      "(Iteration 901 / 3920) loss: 1.100689\n",
      "(Iteration 926 / 3920) loss: 1.386939\n",
      "(Iteration 951 / 3920) loss: 1.130136\n",
      "(Iteration 976 / 3920) loss: 1.215517\n",
      "(Epoch 2 / 8) train acc: 0.649000; val_acc: 0.598000\n",
      "(Iteration 1001 / 3920) loss: 1.057591\n",
      "(Iteration 1026 / 3920) loss: 1.144248\n",
      "(Iteration 1051 / 3920) loss: 1.119112\n",
      "(Iteration 1076 / 3920) loss: 1.105939\n"
     ]
    }
   ],
   "source": [
    "# ================================================================ #\n",
    "# YOUR CODE HERE:\n",
    "#   Implement a CNN to achieve greater than 65% validation accuracy\n",
    "#   on CIFAR-10.\n",
    "# ================================================================ #\n",
    "\n",
    "model = ThreeLayerConvNet(weight_scale=0.001, num_filters=100, filter_size = 3, hidden_dim=800, reg=0.0035)\n",
    "\n",
    "solver = Solver(model, data,\n",
    "                num_epochs=8, batch_size=100,\n",
    "                update_rule='adam',\n",
    "                optim_config={\n",
    "                  'learning_rate': 3e-4, \n",
    "                },\n",
    "                verbose=True, print_every=25)\n",
    "solver.train()\n",
    "\n",
    "# ================================================================ #\n",
    "# END YOUR CODE HERE\n",
    "# ================================================================ #\n"
   ]
  },
  {
   "cell_type": "code",
   "execution_count": null,
   "metadata": {
    "collapsed": true,
    "deletable": true,
    "editable": true
   },
   "outputs": [],
   "source": []
  }
 ],
 "metadata": {
  "kernelspec": {
   "display_name": "Python 3",
   "language": "python",
   "name": "python3"
  },
  "language_info": {
   "codemirror_mode": {
    "name": "ipython",
    "version": 3
   },
   "file_extension": ".py",
   "mimetype": "text/x-python",
   "name": "python",
   "nbconvert_exporter": "python",
   "pygments_lexer": "ipython3",
   "version": "3.5.0"
  }
 },
 "nbformat": 4,
 "nbformat_minor": 2
}
