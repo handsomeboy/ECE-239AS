{
 "cells": [
  {
   "cell_type": "markdown",
   "metadata": {},
   "source": [
    "### Lecture 1: Deep Learning Overview & History\n",
    "\n",
    "- Basically everyone interacts with tech using deep learning everyday\n",
    "- FB, google, yelp, Siri, etc. all use Deep Learning\n",
    "- Lots of advancements recently\n",
    "- 2012: AlexNet more than halves error on ImageNet challenge, CV community goes crazy\n",
    "- Steady drop since then, it's about 3.57% now \n",
    "- AlexNet, VGGNet, GoogLe Net, ResNet\n",
    "- Yay for convolutional neural networks\n",
    "\n",
    "#### Deep Learning History\n",
    "- Basics of neural networks go back to ~1943 when the basic perceptron was proposed, but it didn't learn\n",
    "- 50s: learning algorithm for perceptron invented, MLPs soon followed\n",
    "- No one knew how to extend the learning algorithm to train MLPs\n",
    "- Around the 1970s, people knew about backpropagation but it wasn't applied to MLPs/neural networks\n",
    "- There was a paper that basically said forget about neural networks, they can't be trained\n",
    "- 1986: Hinton and other researchers show that neural networks can be trained with backpropagation\n",
    "- Late 80s/early 90s: Yann LeCun and others train a neural network that does really well on MNIST\n",
    "- Late 90s: Followed up with LeNet, convolutional neural network\n",
    "- 2006 paper by Hinton and follow up paper by Bengio on greedy layerwise pretraining for deep neural networks reignites interest in deep learning\n",
    "- They were training deep belief networks which were generative models\n",
    "- Main idea was to apply a greedy strategy to train each layer, and stack these layers\n",
    "- After the weights were pretrained in an unsupervised fashion, fine-tuning with backpropagation could be applied for supervised learning\n"
   ]
  },
  {
   "cell_type": "code",
   "execution_count": null,
   "metadata": {
    "collapsed": true
   },
   "outputs": [],
   "source": []
  }
 ],
 "metadata": {
  "kernelspec": {
   "display_name": "Python 3",
   "language": "python",
   "name": "python3"
  },
  "language_info": {
   "codemirror_mode": {
    "name": "ipython",
    "version": 3
   },
   "file_extension": ".py",
   "mimetype": "text/x-python",
   "name": "python",
   "nbconvert_exporter": "python",
   "pygments_lexer": "ipython3",
   "version": "3.5.0"
  }
 },
 "nbformat": 4,
 "nbformat_minor": 2
}
